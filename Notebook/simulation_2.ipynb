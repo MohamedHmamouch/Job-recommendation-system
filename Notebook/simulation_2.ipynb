{
 "cells": [
  {
   "cell_type": "code",
   "execution_count": 1,
   "id": "cd9055a2",
   "metadata": {},
   "outputs": [],
   "source": [
    "MLFLOW_TRACKING_URI='../models/mlruns'\n",
    "MLFLOW_EXPERIMENT_NAME=\"skills_jobs_stackoverflow\"\n",
    "MLFLOW_RUN_ID=\"cb06262089ad4c5c82d2da3046219870\"\n",
    "\n",
    "\n",
    "LOG_DATA_PKL=\"data.pkl\"\n",
    "LOG_MODEL_PKL=\"model.pkl\"\n",
    "LOG_METRICS_PKL=\"metrics.pkl\"\n",
    "\n",
    "CLUSTERS_YAML_PATH=\"features_skills_clusters_description.yaml\""
   ]
  },
  {
   "cell_type": "code",
   "execution_count": 2,
   "id": "a330c1be",
   "metadata": {},
   "outputs": [],
   "source": [
    "import mlflow\n",
    "import sys\n",
    "import os\n",
    "import pandas as pd\n",
    "import numpy as np\n",
    "import sys\n",
    "sys.path.append('../Scripts')\n",
    "from JobPrediction import *\n"
   ]
  },
  {
   "cell_type": "code",
   "execution_count": 5,
   "id": "9cac5d69",
   "metadata": {},
   "outputs": [
    {
     "name": "stdout",
     "output_type": "stream",
     "text": [
      "../models/mlruns\n"
     ]
    },
    {
     "name": "stderr",
     "output_type": "stream",
     "text": [
      "[Parallel(n_jobs=8)]: Using backend ThreadingBackend with 8 concurrent workers.\n",
      "[Parallel(n_jobs=8)]: Done  34 tasks      | elapsed:    0.0s\n",
      "[Parallel(n_jobs=8)]: Done 100 out of 100 | elapsed:    0.0s finished\n"
     ]
    },
    {
     "data": {
      "text/plain": [
       "Data or business analyst                         0.47\n",
       "Data scientist or machine learning specialist    0.41\n",
       "Engineer, data                                   0.25\n",
       "Academic researcher                              0.20\n",
       "Database administrator                           0.18\n",
       "Scientist                                        0.14\n",
       "Developer, back-end                              0.11\n",
       "System administrator                             0.10\n",
       "Developer, full-stack                            0.07\n",
       "DevOps specialist                                0.05\n",
       "Developer, front-end                             0.05\n",
       "Developer, desktop or enterprise applications    0.04\n",
       "Developer, mobile                                0.02\n",
       "Developer, QA or test                            0.01\n",
       "Developer, embedded applications or devices      0.01\n",
       "Developer, game or graphics                      0.01\n",
       "dtype: float64"
      ]
     },
     "execution_count": 5,
     "metadata": {},
     "output_type": "execute_result"
    }
   ],
   "source": [
    "current_skills=['R','SQL','Python']\n",
    "print(MLFLOW_TRACKING_URI)\n",
    "model = JobPrediction(MLFLOW_TRACKING_URI, MLFLOW_RUN_ID, CLUSTERS_YAML_PATH)\n",
    "\n",
    "base_predictions=model.predict_jobs_probabilities(current_skills)\n",
    "base_predictions.sort_values(ascending=False)"
   ]
  },
  {
   "cell_type": "code",
   "execution_count": null,
   "id": "f3829073",
   "metadata": {},
   "outputs": [],
   "source": []
  }
 ],
 "metadata": {
  "kernelspec": {
   "display_name": "Python 3 (ipykernel)",
   "language": "python",
   "name": "python3"
  },
  "language_info": {
   "codemirror_mode": {
    "name": "ipython",
    "version": 3
   },
   "file_extension": ".py",
   "mimetype": "text/x-python",
   "name": "python",
   "nbconvert_exporter": "python",
   "pygments_lexer": "ipython3",
   "version": "3.9.7"
  }
 },
 "nbformat": 4,
 "nbformat_minor": 5
}
