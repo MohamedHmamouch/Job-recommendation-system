{
 "cells": [
  {
   "cell_type": "code",
   "execution_count": 30,
   "id": "68d50ff6",
   "metadata": {},
   "outputs": [],
   "source": [
    "MLFLOW_TRACKING_URI='../models/mlruns'\n",
    "MLFLOW_EXPERIMENT_NAME=\"skills_jobs_stackoverflow\"\n",
    "MLFLOW_RUN_ID=\"cb06262089ad4c5c82d2da3046219870\"\n",
    "\n",
    "\n",
    "LOG_DATA_PKL=\"data.pkl\"\n",
    "LOG_MODEL_PKL=\"model.pkl\"\n",
    "LOG_METRICS_PKL=\"metrics.pkl\"\n",
    "\n",
    "CLUSTERS_YAML_PATH=\"features_skills_clusters_description.yaml\""
   ]
  },
  {
   "cell_type": "code",
   "execution_count": 34,
   "id": "571ee43c",
   "metadata": {},
   "outputs": [
    {
     "ename": "ModuleNotFoundError",
     "evalue": "No module named 'Scripts.JobPrediction'",
     "output_type": "error",
     "traceback": [
      "\u001b[1;31m---------------------------------------------------------------------------\u001b[0m",
      "\u001b[1;31mModuleNotFoundError\u001b[0m                       Traceback (most recent call last)",
      "\u001b[1;32m~\\AppData\\Local\\Temp/ipykernel_16456/3104560227.py\u001b[0m in \u001b[0;36m<module>\u001b[1;34m\u001b[0m\n\u001b[0;32m      2\u001b[0m \u001b[1;32mimport\u001b[0m \u001b[0mpandas\u001b[0m \u001b[1;32mas\u001b[0m \u001b[0mpd\u001b[0m\u001b[1;33m\u001b[0m\u001b[1;33m\u001b[0m\u001b[0m\n\u001b[0;32m      3\u001b[0m \u001b[1;32mimport\u001b[0m \u001b[0mnumpy\u001b[0m \u001b[1;32mas\u001b[0m \u001b[0mnp\u001b[0m\u001b[1;33m\u001b[0m\u001b[1;33m\u001b[0m\u001b[0m\n\u001b[1;32m----> 4\u001b[1;33m \u001b[1;32mfrom\u001b[0m \u001b[0mScripts\u001b[0m\u001b[1;33m.\u001b[0m\u001b[0mJobPrediction\u001b[0m \u001b[1;32mimport\u001b[0m \u001b[1;33m*\u001b[0m\u001b[1;33m\u001b[0m\u001b[1;33m\u001b[0m\u001b[0m\n\u001b[0m",
      "\u001b[1;31mModuleNotFoundError\u001b[0m: No module named 'Scripts.JobPrediction'"
     ]
    }
   ],
   "source": [
    "import mlflow\n",
    "import pandas as pd\n",
    "import numpy as np \n",
    "from Scripts.JobPrediction import *\n"
   ]
  },
  {
   "cell_type": "code",
   "execution_count": 23,
   "id": "710fa893",
   "metadata": {},
   "outputs": [
    {
     "data": {
      "text/plain": [
       "['C:\\\\Users\\\\adminn\\\\Documents\\\\GitHub\\\\Talent_tracking\\\\Notebook',\n",
       " 'C:\\\\Users\\\\adminn\\\\anaconda3\\\\python39.zip',\n",
       " 'C:\\\\Users\\\\adminn\\\\anaconda3\\\\DLLs',\n",
       " 'C:\\\\Users\\\\adminn\\\\anaconda3\\\\lib',\n",
       " 'C:\\\\Users\\\\adminn\\\\anaconda3',\n",
       " '',\n",
       " 'C:\\\\Users\\\\adminn\\\\AppData\\\\Roaming\\\\Python\\\\Python39\\\\site-packages',\n",
       " 'C:\\\\Users\\\\adminn\\\\AppData\\\\Roaming\\\\Python\\\\Python39\\\\site-packages\\\\win32',\n",
       " 'C:\\\\Users\\\\adminn\\\\AppData\\\\Roaming\\\\Python\\\\Python39\\\\site-packages\\\\win32\\\\lib',\n",
       " 'C:\\\\Users\\\\adminn\\\\AppData\\\\Roaming\\\\Python\\\\Python39\\\\site-packages\\\\Pythonwin',\n",
       " 'C:\\\\Users\\\\adminn\\\\anaconda3\\\\lib\\\\site-packages',\n",
       " 'C:\\\\Users\\\\adminn\\\\anaconda3\\\\lib\\\\site-packages\\\\locket-0.2.1-py3.9.egg',\n",
       " 'C:\\\\Users\\\\adminn\\\\anaconda3\\\\lib\\\\site-packages\\\\win32',\n",
       " 'C:\\\\Users\\\\adminn\\\\anaconda3\\\\lib\\\\site-packages\\\\win32\\\\lib',\n",
       " 'C:\\\\Users\\\\adminn\\\\anaconda3\\\\lib\\\\site-packages\\\\Pythonwin',\n",
       " 'C:\\\\Users\\\\adminn\\\\anaconda3\\\\lib\\\\site-packages\\\\IPython\\\\extensions',\n",
       " 'C:\\\\Users\\\\adminn\\\\.ipython',\n",
       " '../',\n",
       " '../',\n",
       " '../',\n",
       " '../',\n",
       " 'C:\\\\Users\\\\adminn\\\\Documents\\\\GitHub\\\\Talent_tracking\\\\Notebook\\\\Scripts',\n",
       " '../Scripts',\n",
       " '../GitHub/Talent_tracking/Scripts',\n",
       " 'GitHub/Talent_tracking/Scripts',\n",
       " 'Talent_tracking/Scripts',\n",
       " '../Talent_tracking/Scripts']"
      ]
     },
     "execution_count": 23,
     "metadata": {},
     "output_type": "execute_result"
    }
   ],
   "source": [
    "sys.path"
   ]
  },
  {
   "cell_type": "code",
   "execution_count": null,
   "id": "abc264c6",
   "metadata": {},
   "outputs": [],
   "source": []
  }
 ],
 "metadata": {
  "kernelspec": {
   "display_name": "Python 3 (ipykernel)",
   "language": "python",
   "name": "python3"
  },
  "language_info": {
   "codemirror_mode": {
    "name": "ipython",
    "version": 3
   },
   "file_extension": ".py",
   "mimetype": "text/x-python",
   "name": "python",
   "nbconvert_exporter": "python",
   "pygments_lexer": "ipython3",
   "version": "3.9.7"
  }
 },
 "nbformat": 4,
 "nbformat_minor": 5
}
