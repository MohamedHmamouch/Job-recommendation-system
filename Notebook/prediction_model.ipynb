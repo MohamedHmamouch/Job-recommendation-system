{
 "cells": [
  {
   "cell_type": "code",
   "execution_count": 2,
   "id": "270a969a",
   "metadata": {},
   "outputs": [],
   "source": [
    "MLFLOW_TRACKING_URI='../models/mlruns'\n",
    "MLFLOW_EXPERIMENT_NAME=\"skills_jobs_stackoverflow\"\n",
    "MLFLOW_RUN_ID=\"f25ab0f182e842baafa80a726b48c900\"\n",
    "\n",
    "\n",
    "LOG_DATA_PKL=\"data.pkl\"\n",
    "LOG_MODEL_PKL=\"model.pkl\"\n",
    "LOG_METRICS_PKL=\"metrics.pkl\"\n",
    "\n",
    "CLUSTERS_YAML_PATH=\"../data/processed/features_skills_clusters_description.yaml\""
   ]
  },
  {
   "cell_type": "code",
   "execution_count": 3,
   "id": "ce4037c5",
   "metadata": {},
   "outputs": [],
   "source": [
    "import mlflow\n",
    "from mlflow.tracking import MlflowClient\n",
    "import os\n",
    "import pickle\n",
    "import pandas as pd\n"
   ]
  },
  {
   "cell_type": "code",
   "execution_count": 4,
   "id": "d7d5ffcb",
   "metadata": {},
   "outputs": [],
   "source": [
    "mlflow.set_tracking_uri(MLFLOW_TRACKING_URI)\n",
    "client=MlflowClient()\n",
    "\n",
    "run=mlflow.get_run(MLFLOW_RUN_ID)\n",
    "\n",
    "artifacts_path=run.info.artifact_uri"
   ]
  },
  {
   "cell_type": "code",
   "execution_count": null,
   "id": "f0d7ca65",
   "metadata": {},
   "outputs": [],
   "source": []
  },
  {
   "cell_type": "markdown",
   "id": "aa13a331",
   "metadata": {},
   "source": [
    "# Model loading"
   ]
  },
  {
   "cell_type": "code",
   "execution_count": 5,
   "id": "be426416",
   "metadata": {},
   "outputs": [
    {
     "data": {
      "text/plain": [
       "{'model_description': 'Random Forest: with PCA - Basic',\n",
       " 'model_details': \"Pipeline(steps=[('robustscaler', RobustScaler()),\\n                ('pca', PCA(n_components=0.95)),\\n                ('randomforestclassifier',\\n                 RandomForestClassifier(n_jobs=8, random_state=0, verbose=1))])\",\n",
       " 'model_object': Pipeline(steps=[('robustscaler', RobustScaler()),\n",
       "                 ('pca', PCA(n_components=0.95)),\n",
       "                 ('randomforestclassifier',\n",
       "                  RandomForestClassifier(n_jobs=8, random_state=0, verbose=1))])}"
      ]
     },
     "execution_count": 5,
     "metadata": {},
     "output_type": "execute_result"
    }
   ],
   "source": [
    "model_path=os.path.join(artifacts_path,LOG_MODEL_PKL)\n",
    "\n",
    "with open(model_path,\"rb\") as f:\n",
    "    \n",
    "    model=pickle.load(f)\n",
    "    \n",
    "model"
   ]
  },
  {
   "cell_type": "code",
   "execution_count": 6,
   "id": "071129e2",
   "metadata": {},
   "outputs": [
    {
     "name": "stdout",
     "output_type": "stream",
     "text": [
      "../models/mlruns/0/f25ab0f182e842baafa80a726b48c900/artifacts\\data.pkl\n"
     ]
    }
   ],
   "source": [
    "# load data pkl \n",
    "\n",
    "data_path=os.path.join(artifacts_path,LOG_DATA_PKL)\n",
    "print(data_path)\n",
    "\n",
    "with open(data_path,\"rb\") as handle:\n",
    "    \n",
    "    data=pickle.load(handle)\n"
   ]
  },
  {
   "cell_type": "code",
   "execution_count": 10,
   "id": "8cb006d2",
   "metadata": {},
   "outputs": [
    {
     "name": "stdout",
     "output_type": "stream",
     "text": [
      "dict_keys(['data_path', 'training_indices', 'test_indices', 'features_names', 'targets_names'])\n"
     ]
    }
   ],
   "source": [
    "print(data.keys())"
   ]
  },
  {
   "cell_type": "code",
   "execution_count": 8,
   "id": "01bb7c7a",
   "metadata": {},
   "outputs": [
    {
     "data": {
      "text/plain": [
       "['APL',\n",
       " 'Assembly',\n",
       " 'Bash/Shell',\n",
       " 'C',\n",
       " 'C#',\n",
       " 'C++',\n",
       " 'COBOL',\n",
       " 'Clojure',\n",
       " 'Crystal',\n",
       " 'Dart',\n",
       " 'Delphi',\n",
       " 'Elixir',\n",
       " 'Erlang',\n",
       " 'F#',\n",
       " 'Go',\n",
       " 'Groovy',\n",
       " 'HTML/CSS',\n",
       " 'Haskell',\n",
       " 'Java',\n",
       " 'JavaScript',\n",
       " 'Julia',\n",
       " 'Kotlin',\n",
       " 'LISP',\n",
       " 'Matlab',\n",
       " 'Node.js',\n",
       " 'Objective-C',\n",
       " 'PHP',\n",
       " 'Perl',\n",
       " 'PowerShell',\n",
       " 'Python',\n",
       " 'R',\n",
       " 'Ruby',\n",
       " 'Rust',\n",
       " 'SQL',\n",
       " 'Scala',\n",
       " 'Swift',\n",
       " 'TypeScript',\n",
       " 'VBA',\n",
       " 'Cassandra',\n",
       " 'Couchbase',\n",
       " 'DynamoDB',\n",
       " 'Elasticsearch',\n",
       " 'Firebase',\n",
       " 'IBM DB2',\n",
       " 'MariaDB',\n",
       " 'Microsoft SQL Server',\n",
       " 'MongoDB',\n",
       " 'MySQL',\n",
       " 'Oracle',\n",
       " 'PostgreSQL',\n",
       " 'Redis',\n",
       " 'SQLite',\n",
       " 'AWS',\n",
       " 'DigitalOcean',\n",
       " 'Google Cloud Platform',\n",
       " 'Heroku',\n",
       " 'IBM Cloud or Watson',\n",
       " 'Microsoft Azure',\n",
       " 'Oracle Cloud Infrastructure',\n",
       " 'ASP.NET',\n",
       " 'ASP.NET Core ',\n",
       " 'Angular',\n",
       " 'Angular.js',\n",
       " 'Django',\n",
       " 'Drupal',\n",
       " 'Express',\n",
       " 'FastAPI',\n",
       " 'Flask',\n",
       " 'Gatsby',\n",
       " 'Laravel',\n",
       " 'React.js',\n",
       " 'Ruby on Rails',\n",
       " 'Spring',\n",
       " 'Svelte',\n",
       " 'Symfony',\n",
       " 'Vue.js',\n",
       " 'jQuery',\n",
       " '.NET Core / .NET 5',\n",
       " '.NET Framework',\n",
       " 'Apache Spark',\n",
       " 'Cordova',\n",
       " 'Flutter',\n",
       " 'Hadoop',\n",
       " 'Keras',\n",
       " 'NumPy',\n",
       " 'Pandas',\n",
       " 'Qt',\n",
       " 'React Native',\n",
       " 'TensorFlow',\n",
       " 'Torch/PyTorch',\n",
       " 'Ansible',\n",
       " 'Chef',\n",
       " 'Deno',\n",
       " 'Docker',\n",
       " 'Flow',\n",
       " 'Git',\n",
       " 'Kubernetes',\n",
       " 'Pulumi',\n",
       " 'Puppet',\n",
       " 'Terraform',\n",
       " 'Unity 3D',\n",
       " 'Unreal Engine',\n",
       " 'Xamarin',\n",
       " 'Yarn',\n",
       " 'Android Studio',\n",
       " 'Atom',\n",
       " 'Eclipse',\n",
       " 'Emacs',\n",
       " 'IPython/Jupyter',\n",
       " 'IntelliJ',\n",
       " 'Neovim',\n",
       " 'NetBeans',\n",
       " 'Notepad++',\n",
       " 'PHPStorm',\n",
       " 'PyCharm',\n",
       " 'RStudio',\n",
       " 'Rider',\n",
       " 'RubyMine',\n",
       " 'Sublime Text',\n",
       " 'TextMate',\n",
       " 'Vim',\n",
       " 'Visual Studio',\n",
       " 'Visual Studio Code',\n",
       " 'Webstorm',\n",
       " 'Xcode',\n",
       " 'skills_group0',\n",
       " 'skills_group1',\n",
       " 'skills_group10',\n",
       " 'skills_group11',\n",
       " 'skills_group12',\n",
       " 'skills_group13',\n",
       " 'skills_group14',\n",
       " 'skills_group15',\n",
       " 'skills_group16',\n",
       " 'skills_group17',\n",
       " 'skills_group18',\n",
       " 'skills_group19',\n",
       " 'skills_group2',\n",
       " 'skills_group20',\n",
       " 'skills_group21',\n",
       " 'skills_group22',\n",
       " 'skills_group23',\n",
       " 'skills_group3',\n",
       " 'skills_group4',\n",
       " 'skills_group5',\n",
       " 'skills_group6',\n",
       " 'skills_group7',\n",
       " 'skills_group8',\n",
       " 'skills_group9']"
      ]
     },
     "execution_count": 8,
     "metadata": {},
     "output_type": "execute_result"
    }
   ],
   "source": [
    "data['features_names']"
   ]
  },
  {
   "cell_type": "code",
   "execution_count": 11,
   "id": "0eb10ad5",
   "metadata": {},
   "outputs": [],
   "source": [
    "features_name=pd.Series(data['features_names'])\n",
    "\n",
    "target_names=pd.Series(data['targets_names'])\n",
    "\n",
    "classifier=model['model_object']"
   ]
  },
  {
   "cell_type": "code",
   "execution_count": 12,
   "id": "e4c362d5",
   "metadata": {},
   "outputs": [
    {
     "data": {
      "text/html": [
       "<style>#sk-container-id-1 {color: black;background-color: white;}#sk-container-id-1 pre{padding: 0;}#sk-container-id-1 div.sk-toggleable {background-color: white;}#sk-container-id-1 label.sk-toggleable__label {cursor: pointer;display: block;width: 100%;margin-bottom: 0;padding: 0.3em;box-sizing: border-box;text-align: center;}#sk-container-id-1 label.sk-toggleable__label-arrow:before {content: \"▸\";float: left;margin-right: 0.25em;color: #696969;}#sk-container-id-1 label.sk-toggleable__label-arrow:hover:before {color: black;}#sk-container-id-1 div.sk-estimator:hover label.sk-toggleable__label-arrow:before {color: black;}#sk-container-id-1 div.sk-toggleable__content {max-height: 0;max-width: 0;overflow: hidden;text-align: left;background-color: #f0f8ff;}#sk-container-id-1 div.sk-toggleable__content pre {margin: 0.2em;color: black;border-radius: 0.25em;background-color: #f0f8ff;}#sk-container-id-1 input.sk-toggleable__control:checked~div.sk-toggleable__content {max-height: 200px;max-width: 100%;overflow: auto;}#sk-container-id-1 input.sk-toggleable__control:checked~label.sk-toggleable__label-arrow:before {content: \"▾\";}#sk-container-id-1 div.sk-estimator input.sk-toggleable__control:checked~label.sk-toggleable__label {background-color: #d4ebff;}#sk-container-id-1 div.sk-label input.sk-toggleable__control:checked~label.sk-toggleable__label {background-color: #d4ebff;}#sk-container-id-1 input.sk-hidden--visually {border: 0;clip: rect(1px 1px 1px 1px);clip: rect(1px, 1px, 1px, 1px);height: 1px;margin: -1px;overflow: hidden;padding: 0;position: absolute;width: 1px;}#sk-container-id-1 div.sk-estimator {font-family: monospace;background-color: #f0f8ff;border: 1px dotted black;border-radius: 0.25em;box-sizing: border-box;margin-bottom: 0.5em;}#sk-container-id-1 div.sk-estimator:hover {background-color: #d4ebff;}#sk-container-id-1 div.sk-parallel-item::after {content: \"\";width: 100%;border-bottom: 1px solid gray;flex-grow: 1;}#sk-container-id-1 div.sk-label:hover label.sk-toggleable__label {background-color: #d4ebff;}#sk-container-id-1 div.sk-serial::before {content: \"\";position: absolute;border-left: 1px solid gray;box-sizing: border-box;top: 0;bottom: 0;left: 50%;z-index: 0;}#sk-container-id-1 div.sk-serial {display: flex;flex-direction: column;align-items: center;background-color: white;padding-right: 0.2em;padding-left: 0.2em;position: relative;}#sk-container-id-1 div.sk-item {position: relative;z-index: 1;}#sk-container-id-1 div.sk-parallel {display: flex;align-items: stretch;justify-content: center;background-color: white;position: relative;}#sk-container-id-1 div.sk-item::before, #sk-container-id-1 div.sk-parallel-item::before {content: \"\";position: absolute;border-left: 1px solid gray;box-sizing: border-box;top: 0;bottom: 0;left: 50%;z-index: -1;}#sk-container-id-1 div.sk-parallel-item {display: flex;flex-direction: column;z-index: 1;position: relative;background-color: white;}#sk-container-id-1 div.sk-parallel-item:first-child::after {align-self: flex-end;width: 50%;}#sk-container-id-1 div.sk-parallel-item:last-child::after {align-self: flex-start;width: 50%;}#sk-container-id-1 div.sk-parallel-item:only-child::after {width: 0;}#sk-container-id-1 div.sk-dashed-wrapped {border: 1px dashed gray;margin: 0 0.4em 0.5em 0.4em;box-sizing: border-box;padding-bottom: 0.4em;background-color: white;}#sk-container-id-1 div.sk-label label {font-family: monospace;font-weight: bold;display: inline-block;line-height: 1.2em;}#sk-container-id-1 div.sk-label-container {text-align: center;}#sk-container-id-1 div.sk-container {/* jupyter's `normalize.less` sets `[hidden] { display: none; }` but bootstrap.min.css set `[hidden] { display: none !important; }` so we also need the `!important` here to be able to override the default hidden behavior on the sphinx rendered scikit-learn.org. See: https://github.com/scikit-learn/scikit-learn/issues/21755 */display: inline-block !important;position: relative;}#sk-container-id-1 div.sk-text-repr-fallback {display: none;}</style><div id=\"sk-container-id-1\" class=\"sk-top-container\"><div class=\"sk-text-repr-fallback\"><pre>Pipeline(steps=[(&#x27;robustscaler&#x27;, RobustScaler()),\n",
       "                (&#x27;pca&#x27;, PCA(n_components=0.95)),\n",
       "                (&#x27;randomforestclassifier&#x27;,\n",
       "                 RandomForestClassifier(n_jobs=8, random_state=0, verbose=1))])</pre><b>In a Jupyter environment, please rerun this cell to show the HTML representation or trust the notebook. <br />On GitHub, the HTML representation is unable to render, please try loading this page with nbviewer.org.</b></div><div class=\"sk-container\" hidden><div class=\"sk-item sk-dashed-wrapped\"><div class=\"sk-label-container\"><div class=\"sk-label sk-toggleable\"><input class=\"sk-toggleable__control sk-hidden--visually\" id=\"sk-estimator-id-1\" type=\"checkbox\" ><label for=\"sk-estimator-id-1\" class=\"sk-toggleable__label sk-toggleable__label-arrow\">Pipeline</label><div class=\"sk-toggleable__content\"><pre>Pipeline(steps=[(&#x27;robustscaler&#x27;, RobustScaler()),\n",
       "                (&#x27;pca&#x27;, PCA(n_components=0.95)),\n",
       "                (&#x27;randomforestclassifier&#x27;,\n",
       "                 RandomForestClassifier(n_jobs=8, random_state=0, verbose=1))])</pre></div></div></div><div class=\"sk-serial\"><div class=\"sk-item\"><div class=\"sk-estimator sk-toggleable\"><input class=\"sk-toggleable__control sk-hidden--visually\" id=\"sk-estimator-id-2\" type=\"checkbox\" ><label for=\"sk-estimator-id-2\" class=\"sk-toggleable__label sk-toggleable__label-arrow\">RobustScaler</label><div class=\"sk-toggleable__content\"><pre>RobustScaler()</pre></div></div></div><div class=\"sk-item\"><div class=\"sk-estimator sk-toggleable\"><input class=\"sk-toggleable__control sk-hidden--visually\" id=\"sk-estimator-id-3\" type=\"checkbox\" ><label for=\"sk-estimator-id-3\" class=\"sk-toggleable__label sk-toggleable__label-arrow\">PCA</label><div class=\"sk-toggleable__content\"><pre>PCA(n_components=0.95)</pre></div></div></div><div class=\"sk-item\"><div class=\"sk-estimator sk-toggleable\"><input class=\"sk-toggleable__control sk-hidden--visually\" id=\"sk-estimator-id-4\" type=\"checkbox\" ><label for=\"sk-estimator-id-4\" class=\"sk-toggleable__label sk-toggleable__label-arrow\">RandomForestClassifier</label><div class=\"sk-toggleable__content\"><pre>RandomForestClassifier(n_jobs=8, random_state=0, verbose=1)</pre></div></div></div></div></div></div></div>"
      ],
      "text/plain": [
       "Pipeline(steps=[('robustscaler', RobustScaler()),\n",
       "                ('pca', PCA(n_components=0.95)),\n",
       "                ('randomforestclassifier',\n",
       "                 RandomForestClassifier(n_jobs=8, random_state=0, verbose=1))])"
      ]
     },
     "execution_count": 12,
     "metadata": {},
     "output_type": "execute_result"
    }
   ],
   "source": [
    "classifier"
   ]
  },
  {
   "cell_type": "markdown",
   "id": "9bafd51f",
   "metadata": {},
   "source": [
    "# Load skills clusters"
   ]
  },
  {
   "cell_type": "code",
   "execution_count": 13,
   "id": "5d0dec5f",
   "metadata": {},
   "outputs": [
    {
     "ename": "FileNotFoundError",
     "evalue": "[Errno 2] No such file or directory: '../data/processed/features_skills_clusters_description.yaml'",
     "output_type": "error",
     "traceback": [
      "\u001b[1;31m---------------------------------------------------------------------------\u001b[0m",
      "\u001b[1;31mFileNotFoundError\u001b[0m                         Traceback (most recent call last)",
      "\u001b[1;32m~\\AppData\\Local\\Temp/ipykernel_1824/3518240714.py\u001b[0m in \u001b[0;36m<module>\u001b[1;34m\u001b[0m\n\u001b[1;32m----> 1\u001b[1;33m \u001b[1;32mwith\u001b[0m \u001b[0mopen\u001b[0m\u001b[1;33m(\u001b[0m\u001b[0mCLUSTERS_YAML_PATH\u001b[0m\u001b[1;33m,\u001b[0m\u001b[1;34m\"r\"\u001b[0m\u001b[1;33m)\u001b[0m \u001b[1;32mas\u001b[0m \u001b[0mstream\u001b[0m\u001b[1;33m:\u001b[0m\u001b[1;33m\u001b[0m\u001b[1;33m\u001b[0m\u001b[0m\n\u001b[0m\u001b[0;32m      2\u001b[0m \u001b[1;33m\u001b[0m\u001b[0m\n\u001b[0;32m      3\u001b[0m     \u001b[0mclusters_config\u001b[0m\u001b[1;33m=\u001b[0m\u001b[0myaml\u001b[0m\u001b[1;33m.\u001b[0m\u001b[0msafe_load\u001b[0m\u001b[1;33m(\u001b[0m\u001b[0mstream\u001b[0m\u001b[1;33m)\u001b[0m\u001b[1;33m\u001b[0m\u001b[1;33m\u001b[0m\u001b[0m\n\u001b[0;32m      4\u001b[0m \u001b[1;33m\u001b[0m\u001b[0m\n\u001b[0;32m      5\u001b[0m \u001b[0mclustres_config\u001b[0m\u001b[1;33m\u001b[0m\u001b[1;33m\u001b[0m\u001b[0m\n",
      "\u001b[1;31mFileNotFoundError\u001b[0m: [Errno 2] No such file or directory: '../data/processed/features_skills_clusters_description.yaml'"
     ]
    }
   ],
   "source": [
    "with open(CLUSTERS_YAML_PATH,\"r\") as stream:\n",
    "    \n",
    "    clusters_config=yaml.safe_load(stream)\n",
    "    \n",
    "clustres_config"
   ]
  },
  {
   "cell_type": "code",
   "execution_count": null,
   "id": "b7f32c08",
   "metadata": {},
   "outputs": [],
   "source": []
  }
 ],
 "metadata": {
  "kernelspec": {
   "display_name": "Python 3 (ipykernel)",
   "language": "python",
   "name": "python3"
  },
  "language_info": {
   "codemirror_mode": {
    "name": "ipython",
    "version": 3
   },
   "file_extension": ".py",
   "mimetype": "text/x-python",
   "name": "python",
   "nbconvert_exporter": "python",
   "pygments_lexer": "ipython3",
   "version": "3.9.7"
  }
 },
 "nbformat": 4,
 "nbformat_minor": 5
}
