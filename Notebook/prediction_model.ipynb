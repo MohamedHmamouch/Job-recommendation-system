{
 "cells": [
  {
   "cell_type": "code",
   "execution_count": 47,
   "id": "270a969a",
   "metadata": {},
   "outputs": [],
   "source": [
    "import mlflow\n",
    "from mlflow.tracking import MlflowClient\n",
    "import os\n",
    "import pickle\n",
    "import pandas as pd\n",
    "import yaml"
   ]
  },
  {
   "cell_type": "code",
   "execution_count": 48,
   "id": "ce4037c5",
   "metadata": {},
   "outputs": [],
   "source": [
    "MLFLOW_TRACKING_URI='../models/mlruns'\n",
    "MLFLOW_EXPERIMENT_NAME=\"skills_jobs_stackoverflow\"\n",
    "MLFLOW_RUN_ID=\"cb06262089ad4c5c82d2da3046219870\"\n",
    "\n",
    "\n",
    "LOG_DATA_PKL=\"data.pkl\"\n",
    "LOG_MODEL_PKL=\"model.pkl\"\n",
    "LOG_METRICS_PKL=\"metrics.pkl\"\n",
    "\n",
    "CLUSTERS_YAML_PATH=\"features_skills_clusters_description.yaml\""
   ]
  },
  {
   "cell_type": "code",
   "execution_count": 49,
   "id": "d7d5ffcb",
   "metadata": {},
   "outputs": [],
   "source": [
    "mlflow.set_tracking_uri(MLFLOW_TRACKING_URI)\n",
    "client=MlflowClient()\n",
    "\n",
    "run=mlflow.get_run(MLFLOW_RUN_ID)\n",
    "\n",
    "artifacts_path=run.info.artifact_uri"
   ]
  },
  {
   "cell_type": "code",
   "execution_count": null,
   "id": "f0d7ca65",
   "metadata": {},
   "outputs": [],
   "source": []
  },
  {
   "cell_type": "markdown",
   "id": "aa13a331",
   "metadata": {},
   "source": [
    "# Model loading"
   ]
  },
  {
   "cell_type": "code",
   "execution_count": 50,
   "id": "be426416",
   "metadata": {},
   "outputs": [
    {
     "data": {
      "text/plain": [
       "{'model_description': 'Random Forest: with PCA - Basic',\n",
       " 'model_details': \"Pipeline(steps=[('robustscaler', RobustScaler()),\\n                ('pca', PCA(n_components=0.95)),\\n                ('randomforestclassifier',\\n                 RandomForestClassifier(n_jobs=8, random_state=0, verbose=1))])\",\n",
       " 'model_object': Pipeline(steps=[('robustscaler', RobustScaler()),\n",
       "                 ('pca', PCA(n_components=0.95)),\n",
       "                 ('randomforestclassifier',\n",
       "                  RandomForestClassifier(n_jobs=8, random_state=0, verbose=1))])}"
      ]
     },
     "execution_count": 50,
     "metadata": {},
     "output_type": "execute_result"
    }
   ],
   "source": [
    "model_path=os.path.join(artifacts_path,LOG_MODEL_PKL)\n",
    "\n",
    "with open(model_path,\"rb\") as f:\n",
    "    \n",
    "    model=pickle.load(f)\n",
    "    \n",
    "model"
   ]
  },
  {
   "cell_type": "code",
   "execution_count": 51,
   "id": "071129e2",
   "metadata": {},
   "outputs": [
    {
     "name": "stdout",
     "output_type": "stream",
     "text": [
      "../models/mlruns/0/cb06262089ad4c5c82d2da3046219870/artifacts\\data.pkl\n"
     ]
    }
   ],
   "source": [
    "# load data pkl \n",
    "\n",
    "data_path=os.path.join(artifacts_path,LOG_DATA_PKL)\n",
    "print(data_path)\n",
    "\n",
    "with open(data_path,\"rb\") as handle:\n",
    "    \n",
    "    data=pickle.load(handle)\n"
   ]
  },
  {
   "cell_type": "code",
   "execution_count": 52,
   "id": "8cb006d2",
   "metadata": {},
   "outputs": [
    {
     "name": "stdout",
     "output_type": "stream",
     "text": [
      "dict_keys(['data_path', 'training_indices', 'test_indices', 'features_names', 'targets_names'])\n"
     ]
    }
   ],
   "source": [
    "print(data.keys())"
   ]
  },
  {
   "cell_type": "code",
   "execution_count": 53,
   "id": "01bb7c7a",
   "metadata": {},
   "outputs": [
    {
     "data": {
      "text/plain": [
       "['APL',\n",
       " 'Assembly',\n",
       " 'Bash/Shell',\n",
       " 'C',\n",
       " 'C#',\n",
       " 'C++',\n",
       " 'COBOL',\n",
       " 'Clojure',\n",
       " 'Crystal',\n",
       " 'Dart',\n",
       " 'Delphi',\n",
       " 'Elixir',\n",
       " 'Erlang',\n",
       " 'F#',\n",
       " 'Go',\n",
       " 'Groovy',\n",
       " 'HTML/CSS',\n",
       " 'Haskell',\n",
       " 'Java',\n",
       " 'JavaScript',\n",
       " 'Julia',\n",
       " 'Kotlin',\n",
       " 'LISP',\n",
       " 'Matlab',\n",
       " 'Node.js',\n",
       " 'Objective-C',\n",
       " 'PHP',\n",
       " 'Perl',\n",
       " 'PowerShell',\n",
       " 'Python',\n",
       " 'R',\n",
       " 'Ruby',\n",
       " 'Rust',\n",
       " 'SQL',\n",
       " 'Scala',\n",
       " 'Swift',\n",
       " 'TypeScript',\n",
       " 'VBA',\n",
       " 'Cassandra',\n",
       " 'Couchbase',\n",
       " 'DynamoDB',\n",
       " 'Elasticsearch',\n",
       " 'Firebase',\n",
       " 'IBM DB2',\n",
       " 'MariaDB',\n",
       " 'Microsoft SQL Server',\n",
       " 'MongoDB',\n",
       " 'MySQL',\n",
       " 'Oracle',\n",
       " 'PostgreSQL',\n",
       " 'Redis',\n",
       " 'SQLite',\n",
       " 'AWS',\n",
       " 'DigitalOcean',\n",
       " 'Google Cloud Platform',\n",
       " 'Heroku',\n",
       " 'IBM Cloud or Watson',\n",
       " 'Microsoft Azure',\n",
       " 'Oracle Cloud Infrastructure',\n",
       " 'ASP.NET',\n",
       " 'ASP.NET Core ',\n",
       " 'Angular',\n",
       " 'Angular.js',\n",
       " 'Django',\n",
       " 'Drupal',\n",
       " 'Express',\n",
       " 'FastAPI',\n",
       " 'Flask',\n",
       " 'Gatsby',\n",
       " 'Laravel',\n",
       " 'React.js',\n",
       " 'Ruby on Rails',\n",
       " 'Spring',\n",
       " 'Svelte',\n",
       " 'Symfony',\n",
       " 'Vue.js',\n",
       " 'jQuery',\n",
       " '.NET Core / .NET 5',\n",
       " '.NET Framework',\n",
       " 'Apache Spark',\n",
       " 'Cordova',\n",
       " 'Flutter',\n",
       " 'Hadoop',\n",
       " 'Keras',\n",
       " 'NumPy',\n",
       " 'Pandas',\n",
       " 'Qt',\n",
       " 'React Native',\n",
       " 'TensorFlow',\n",
       " 'Torch/PyTorch',\n",
       " 'Ansible',\n",
       " 'Chef',\n",
       " 'Deno',\n",
       " 'Docker',\n",
       " 'Flow',\n",
       " 'Git',\n",
       " 'Kubernetes',\n",
       " 'Pulumi',\n",
       " 'Puppet',\n",
       " 'Terraform',\n",
       " 'Unity 3D',\n",
       " 'Unreal Engine',\n",
       " 'Xamarin',\n",
       " 'Yarn',\n",
       " 'Android Studio',\n",
       " 'Atom',\n",
       " 'Eclipse',\n",
       " 'Emacs',\n",
       " 'IPython/Jupyter',\n",
       " 'IntelliJ',\n",
       " 'Neovim',\n",
       " 'NetBeans',\n",
       " 'Notepad++',\n",
       " 'PHPStorm',\n",
       " 'PyCharm',\n",
       " 'RStudio',\n",
       " 'Rider',\n",
       " 'RubyMine',\n",
       " 'Sublime Text',\n",
       " 'TextMate',\n",
       " 'Vim',\n",
       " 'Visual Studio',\n",
       " 'Visual Studio Code',\n",
       " 'Webstorm',\n",
       " 'Xcode',\n",
       " 'skills_group0',\n",
       " 'skills_group1',\n",
       " 'skills_group10',\n",
       " 'skills_group11',\n",
       " 'skills_group12',\n",
       " 'skills_group13',\n",
       " 'skills_group14',\n",
       " 'skills_group15',\n",
       " 'skills_group16',\n",
       " 'skills_group17',\n",
       " 'skills_group18',\n",
       " 'skills_group19',\n",
       " 'skills_group2',\n",
       " 'skills_group20',\n",
       " 'skills_group21',\n",
       " 'skills_group22',\n",
       " 'skills_group23',\n",
       " 'skills_group3',\n",
       " 'skills_group4',\n",
       " 'skills_group5',\n",
       " 'skills_group6',\n",
       " 'skills_group7',\n",
       " 'skills_group8',\n",
       " 'skills_group9']"
      ]
     },
     "execution_count": 53,
     "metadata": {},
     "output_type": "execute_result"
    }
   ],
   "source": [
    "data['features_names']"
   ]
  },
  {
   "cell_type": "code",
   "execution_count": 54,
   "id": "0eb10ad5",
   "metadata": {},
   "outputs": [],
   "source": [
    "features_name=pd.Series(data['features_names'])\n",
    "\n",
    "target_names=pd.Series(data['targets_names'])\n",
    "\n",
    "classifier=model['model_object']"
   ]
  },
  {
   "cell_type": "code",
   "execution_count": 55,
   "id": "e4c362d5",
   "metadata": {},
   "outputs": [
    {
     "data": {
      "text/html": [
       "<style>#sk-container-id-3 {color: black;background-color: white;}#sk-container-id-3 pre{padding: 0;}#sk-container-id-3 div.sk-toggleable {background-color: white;}#sk-container-id-3 label.sk-toggleable__label {cursor: pointer;display: block;width: 100%;margin-bottom: 0;padding: 0.3em;box-sizing: border-box;text-align: center;}#sk-container-id-3 label.sk-toggleable__label-arrow:before {content: \"▸\";float: left;margin-right: 0.25em;color: #696969;}#sk-container-id-3 label.sk-toggleable__label-arrow:hover:before {color: black;}#sk-container-id-3 div.sk-estimator:hover label.sk-toggleable__label-arrow:before {color: black;}#sk-container-id-3 div.sk-toggleable__content {max-height: 0;max-width: 0;overflow: hidden;text-align: left;background-color: #f0f8ff;}#sk-container-id-3 div.sk-toggleable__content pre {margin: 0.2em;color: black;border-radius: 0.25em;background-color: #f0f8ff;}#sk-container-id-3 input.sk-toggleable__control:checked~div.sk-toggleable__content {max-height: 200px;max-width: 100%;overflow: auto;}#sk-container-id-3 input.sk-toggleable__control:checked~label.sk-toggleable__label-arrow:before {content: \"▾\";}#sk-container-id-3 div.sk-estimator input.sk-toggleable__control:checked~label.sk-toggleable__label {background-color: #d4ebff;}#sk-container-id-3 div.sk-label input.sk-toggleable__control:checked~label.sk-toggleable__label {background-color: #d4ebff;}#sk-container-id-3 input.sk-hidden--visually {border: 0;clip: rect(1px 1px 1px 1px);clip: rect(1px, 1px, 1px, 1px);height: 1px;margin: -1px;overflow: hidden;padding: 0;position: absolute;width: 1px;}#sk-container-id-3 div.sk-estimator {font-family: monospace;background-color: #f0f8ff;border: 1px dotted black;border-radius: 0.25em;box-sizing: border-box;margin-bottom: 0.5em;}#sk-container-id-3 div.sk-estimator:hover {background-color: #d4ebff;}#sk-container-id-3 div.sk-parallel-item::after {content: \"\";width: 100%;border-bottom: 1px solid gray;flex-grow: 1;}#sk-container-id-3 div.sk-label:hover label.sk-toggleable__label {background-color: #d4ebff;}#sk-container-id-3 div.sk-serial::before {content: \"\";position: absolute;border-left: 1px solid gray;box-sizing: border-box;top: 0;bottom: 0;left: 50%;z-index: 0;}#sk-container-id-3 div.sk-serial {display: flex;flex-direction: column;align-items: center;background-color: white;padding-right: 0.2em;padding-left: 0.2em;position: relative;}#sk-container-id-3 div.sk-item {position: relative;z-index: 1;}#sk-container-id-3 div.sk-parallel {display: flex;align-items: stretch;justify-content: center;background-color: white;position: relative;}#sk-container-id-3 div.sk-item::before, #sk-container-id-3 div.sk-parallel-item::before {content: \"\";position: absolute;border-left: 1px solid gray;box-sizing: border-box;top: 0;bottom: 0;left: 50%;z-index: -1;}#sk-container-id-3 div.sk-parallel-item {display: flex;flex-direction: column;z-index: 1;position: relative;background-color: white;}#sk-container-id-3 div.sk-parallel-item:first-child::after {align-self: flex-end;width: 50%;}#sk-container-id-3 div.sk-parallel-item:last-child::after {align-self: flex-start;width: 50%;}#sk-container-id-3 div.sk-parallel-item:only-child::after {width: 0;}#sk-container-id-3 div.sk-dashed-wrapped {border: 1px dashed gray;margin: 0 0.4em 0.5em 0.4em;box-sizing: border-box;padding-bottom: 0.4em;background-color: white;}#sk-container-id-3 div.sk-label label {font-family: monospace;font-weight: bold;display: inline-block;line-height: 1.2em;}#sk-container-id-3 div.sk-label-container {text-align: center;}#sk-container-id-3 div.sk-container {/* jupyter's `normalize.less` sets `[hidden] { display: none; }` but bootstrap.min.css set `[hidden] { display: none !important; }` so we also need the `!important` here to be able to override the default hidden behavior on the sphinx rendered scikit-learn.org. See: https://github.com/scikit-learn/scikit-learn/issues/21755 */display: inline-block !important;position: relative;}#sk-container-id-3 div.sk-text-repr-fallback {display: none;}</style><div id=\"sk-container-id-3\" class=\"sk-top-container\"><div class=\"sk-text-repr-fallback\"><pre>Pipeline(steps=[(&#x27;robustscaler&#x27;, RobustScaler()),\n",
       "                (&#x27;pca&#x27;, PCA(n_components=0.95)),\n",
       "                (&#x27;randomforestclassifier&#x27;,\n",
       "                 RandomForestClassifier(n_jobs=8, random_state=0, verbose=1))])</pre><b>In a Jupyter environment, please rerun this cell to show the HTML representation or trust the notebook. <br />On GitHub, the HTML representation is unable to render, please try loading this page with nbviewer.org.</b></div><div class=\"sk-container\" hidden><div class=\"sk-item sk-dashed-wrapped\"><div class=\"sk-label-container\"><div class=\"sk-label sk-toggleable\"><input class=\"sk-toggleable__control sk-hidden--visually\" id=\"sk-estimator-id-9\" type=\"checkbox\" ><label for=\"sk-estimator-id-9\" class=\"sk-toggleable__label sk-toggleable__label-arrow\">Pipeline</label><div class=\"sk-toggleable__content\"><pre>Pipeline(steps=[(&#x27;robustscaler&#x27;, RobustScaler()),\n",
       "                (&#x27;pca&#x27;, PCA(n_components=0.95)),\n",
       "                (&#x27;randomforestclassifier&#x27;,\n",
       "                 RandomForestClassifier(n_jobs=8, random_state=0, verbose=1))])</pre></div></div></div><div class=\"sk-serial\"><div class=\"sk-item\"><div class=\"sk-estimator sk-toggleable\"><input class=\"sk-toggleable__control sk-hidden--visually\" id=\"sk-estimator-id-10\" type=\"checkbox\" ><label for=\"sk-estimator-id-10\" class=\"sk-toggleable__label sk-toggleable__label-arrow\">RobustScaler</label><div class=\"sk-toggleable__content\"><pre>RobustScaler()</pre></div></div></div><div class=\"sk-item\"><div class=\"sk-estimator sk-toggleable\"><input class=\"sk-toggleable__control sk-hidden--visually\" id=\"sk-estimator-id-11\" type=\"checkbox\" ><label for=\"sk-estimator-id-11\" class=\"sk-toggleable__label sk-toggleable__label-arrow\">PCA</label><div class=\"sk-toggleable__content\"><pre>PCA(n_components=0.95)</pre></div></div></div><div class=\"sk-item\"><div class=\"sk-estimator sk-toggleable\"><input class=\"sk-toggleable__control sk-hidden--visually\" id=\"sk-estimator-id-12\" type=\"checkbox\" ><label for=\"sk-estimator-id-12\" class=\"sk-toggleable__label sk-toggleable__label-arrow\">RandomForestClassifier</label><div class=\"sk-toggleable__content\"><pre>RandomForestClassifier(n_jobs=8, random_state=0, verbose=1)</pre></div></div></div></div></div></div></div>"
      ],
      "text/plain": [
       "Pipeline(steps=[('robustscaler', RobustScaler()),\n",
       "                ('pca', PCA(n_components=0.95)),\n",
       "                ('randomforestclassifier',\n",
       "                 RandomForestClassifier(n_jobs=8, random_state=0, verbose=1))])"
      ]
     },
     "execution_count": 55,
     "metadata": {},
     "output_type": "execute_result"
    }
   ],
   "source": [
    "classifier"
   ]
  },
  {
   "cell_type": "code",
   "execution_count": 86,
   "id": "0778d242",
   "metadata": {},
   "outputs": [
    {
     "data": {
      "text/plain": [
       "0                APL\n",
       "1           Assembly\n",
       "2         Bash/Shell\n",
       "3                  C\n",
       "4                 C#\n",
       "           ...      \n",
       "144    skills_group5\n",
       "145    skills_group6\n",
       "146    skills_group7\n",
       "147    skills_group8\n",
       "148    skills_group9\n",
       "Length: 149, dtype: object"
      ]
     },
     "execution_count": 86,
     "metadata": {},
     "output_type": "execute_result"
    }
   ],
   "source": [
    "features_name"
   ]
  },
  {
   "cell_type": "markdown",
   "id": "9bafd51f",
   "metadata": {},
   "source": [
    "# Load skills clusters"
   ]
  },
  {
   "cell_type": "code",
   "execution_count": 58,
   "id": "5d0dec5f",
   "metadata": {},
   "outputs": [
    {
     "data": {
      "text/plain": [
       "{'skills_group0': ['C',\n",
       "  'C',\n",
       "  'C',\n",
       "  'C',\n",
       "  'Assembly',\n",
       "  'Assembly',\n",
       "  'Assembly',\n",
       "  'Assembly'],\n",
       " 'skills_group1': ['DigitalOcean',\n",
       "  'Ruby',\n",
       "  'Ruby',\n",
       "  'Ruby',\n",
       "  'Ruby',\n",
       "  'Ruby on Rails',\n",
       "  'Elixir',\n",
       "  'Elixir',\n",
       "  'Symfony',\n",
       "  'Elixir',\n",
       "  'Elixir',\n",
       "  'RubyMine'],\n",
       " 'skills_group10': ['SQLite',\n",
       "  'Xcode',\n",
       "  'Swift',\n",
       "  'Swift',\n",
       "  'Swift',\n",
       "  'Swift',\n",
       "  'Cordova',\n",
       "  'Xamarin',\n",
       "  'Objective-C',\n",
       "  'Objective-C',\n",
       "  'Objective-C',\n",
       "  'Objective-C'],\n",
       " 'skills_group11': ['R', 'R', 'R', 'R', 'RStudio', 'Julia', 'Julia'],\n",
       " 'skills_group12': ['Sublime Text',\n",
       "  'Atom',\n",
       "  'IBM Cloud or Watson',\n",
       "  'APL',\n",
       "  'APL',\n",
       "  'APL',\n",
       "  'APL',\n",
       "  'COBOL',\n",
       "  'COBOL'],\n",
       " 'skills_group13': ['SQL',\n",
       "  'SQL',\n",
       "  'SQL',\n",
       "  'SQL',\n",
       "  'Microsoft SQL Server',\n",
       "  'Microsoft Azure',\n",
       "  'PowerShell',\n",
       "  'PowerShell',\n",
       "  'Oracle',\n",
       "  'PowerShell',\n",
       "  'PowerShell',\n",
       "  'F#',\n",
       "  'F#'],\n",
       " 'skills_group14': ['NumPy',\n",
       "  'Pandas',\n",
       "  'IPython/Jupyter',\n",
       "  'TensorFlow',\n",
       "  'Keras',\n",
       "  'Torch/PyTorch'],\n",
       " 'skills_group15': ['Kotlin',\n",
       "  'Kotlin',\n",
       "  'Kotlin',\n",
       "  'Kotlin',\n",
       "  'Delphi',\n",
       "  'Delphi',\n",
       "  'Delphi',\n",
       "  'Delphi'],\n",
       " 'skills_group16': ['Matlab', 'Matlab', 'Julia', 'Matlab', 'Matlab', 'Julia'],\n",
       " 'skills_group17': ['MySQL',\n",
       "  'jQuery',\n",
       "  'PHP',\n",
       "  'PHP',\n",
       "  'MariaDB',\n",
       "  'PHP',\n",
       "  'PHP',\n",
       "  'Laravel',\n",
       "  'PHPStorm'],\n",
       " 'skills_group18': ['C++', 'C++', 'C++', 'C++', 'Qt'],\n",
       " 'skills_group19': ['Emacs',\n",
       "  'Haskell',\n",
       "  'Haskell',\n",
       "  'Haskell',\n",
       "  'Haskell',\n",
       "  'LISP',\n",
       "  'LISP',\n",
       "  'LISP',\n",
       "  'LISP'],\n",
       " 'skills_group2': ['Python',\n",
       "  'Python',\n",
       "  'Python',\n",
       "  'Python',\n",
       "  'PyCharm',\n",
       "  'Flask',\n",
       "  'Django',\n",
       "  'Scala',\n",
       "  'Scala',\n",
       "  'Apache Spark',\n",
       "  'FastAPI',\n",
       "  'Hadoop',\n",
       "  'Scala',\n",
       "  'Scala'],\n",
       " 'skills_group20': ['Unity 3D',\n",
       "  'VBA',\n",
       "  'VBA',\n",
       "  'Unreal Engine',\n",
       "  'IBM DB2',\n",
       "  'VBA',\n",
       "  'VBA'],\n",
       " 'skills_group21': ['Groovy',\n",
       "  'Erlang',\n",
       "  'Erlang',\n",
       "  'Puppet',\n",
       "  'Groovy',\n",
       "  'Chef',\n",
       "  'Crystal',\n",
       "  'Erlang',\n",
       "  'Erlang',\n",
       "  'Crystal',\n",
       "  'Pulumi'],\n",
       " 'skills_group22': ['Git',\n",
       "  'Docker',\n",
       "  'AWS',\n",
       "  'PostgreSQL',\n",
       "  'Go',\n",
       "  'Go',\n",
       "  'Redis',\n",
       "  'Kubernetes',\n",
       "  'Elasticsearch',\n",
       "  'Go',\n",
       "  'Go',\n",
       "  'Ansible',\n",
       "  'Terraform',\n",
       "  'DynamoDB',\n",
       "  'Groovy',\n",
       "  'Groovy'],\n",
       " 'skills_group23': ['Java', 'Java', 'IntelliJ', 'Java', 'Java', 'Spring'],\n",
       " 'skills_group3': ['Google Cloud Platform',\n",
       "  'Clojure',\n",
       "  'Clojure',\n",
       "  'Cassandra',\n",
       "  'Clojure',\n",
       "  'Clojure'],\n",
       " 'skills_group4': ['Visual Studio',\n",
       "  'Notepad++',\n",
       "  'C#',\n",
       "  'C#',\n",
       "  'C#',\n",
       "  'C#',\n",
       "  '.NET Framework',\n",
       "  '.NET Core / .NET 5',\n",
       "  'Eclipse',\n",
       "  'ASP.NET Core ',\n",
       "  'ASP.NET',\n",
       "  'NetBeans',\n",
       "  'Rider'],\n",
       " 'skills_group5': ['Gatsby',\n",
       "  'F#',\n",
       "  'Svelte',\n",
       "  'Drupal',\n",
       "  'Couchbase',\n",
       "  'Deno',\n",
       "  'Oracle Cloud Infrastructure',\n",
       "  'Flow',\n",
       "  'F#',\n",
       "  'Crystal',\n",
       "  'TextMate',\n",
       "  'Crystal',\n",
       "  'COBOL',\n",
       "  'COBOL'],\n",
       " 'skills_group6': ['Android Studio',\n",
       "  'Firebase',\n",
       "  'React Native',\n",
       "  'Dart',\n",
       "  'Dart',\n",
       "  'Flutter',\n",
       "  'Dart',\n",
       "  'Dart'],\n",
       " 'skills_group7': ['JavaScript',\n",
       "  'JavaScript',\n",
       "  'HTML/CSS',\n",
       "  'HTML/CSS',\n",
       "  'JavaScript',\n",
       "  'JavaScript',\n",
       "  'HTML/CSS',\n",
       "  'HTML/CSS',\n",
       "  'Node.js',\n",
       "  'Node.js'],\n",
       " 'skills_group8': ['Bash/Shell',\n",
       "  'Bash/Shell',\n",
       "  'Vim',\n",
       "  'Rust',\n",
       "  'Rust',\n",
       "  'Bash/Shell',\n",
       "  'Bash/Shell',\n",
       "  'Rust',\n",
       "  'Rust',\n",
       "  'Neovim',\n",
       "  'Perl',\n",
       "  'Perl',\n",
       "  'Perl',\n",
       "  'Perl'],\n",
       " 'skills_group9': ['Visual Studio Code',\n",
       "  'Node.js',\n",
       "  'TypeScript',\n",
       "  'TypeScript',\n",
       "  'React.js',\n",
       "  'TypeScript',\n",
       "  'TypeScript',\n",
       "  'Node.js',\n",
       "  'MongoDB',\n",
       "  'Express',\n",
       "  'Angular',\n",
       "  'Yarn',\n",
       "  'Heroku',\n",
       "  'Vue.js',\n",
       "  'Angular.js',\n",
       "  'Webstorm']}"
      ]
     },
     "execution_count": 58,
     "metadata": {},
     "output_type": "execute_result"
    }
   ],
   "source": [
    "with open(CLUSTERS_YAML_PATH,\"r\") as stream:\n",
    "    \n",
    "    clusters_config=yaml.safe_load(stream)\n",
    "    \n",
    "clusters_config"
   ]
  },
  {
   "cell_type": "code",
   "execution_count": 59,
   "id": "b7f32c08",
   "metadata": {},
   "outputs": [
    {
     "data": {
      "text/html": [
       "<div>\n",
       "<style scoped>\n",
       "    .dataframe tbody tr th:only-of-type {\n",
       "        vertical-align: middle;\n",
       "    }\n",
       "\n",
       "    .dataframe tbody tr th {\n",
       "        vertical-align: top;\n",
       "    }\n",
       "\n",
       "    .dataframe thead th {\n",
       "        text-align: right;\n",
       "    }\n",
       "</style>\n",
       "<table border=\"1\" class=\"dataframe\">\n",
       "  <thead>\n",
       "    <tr style=\"text-align: right;\">\n",
       "      <th></th>\n",
       "      <th>cluster_name</th>\n",
       "      <th>skill</th>\n",
       "    </tr>\n",
       "  </thead>\n",
       "  <tbody>\n",
       "    <tr>\n",
       "      <th>0</th>\n",
       "      <td>skills_group0</td>\n",
       "      <td>C</td>\n",
       "    </tr>\n",
       "    <tr>\n",
       "      <th>1</th>\n",
       "      <td>skills_group0</td>\n",
       "      <td>C</td>\n",
       "    </tr>\n",
       "    <tr>\n",
       "      <th>2</th>\n",
       "      <td>skills_group0</td>\n",
       "      <td>C</td>\n",
       "    </tr>\n",
       "    <tr>\n",
       "      <th>3</th>\n",
       "      <td>skills_group0</td>\n",
       "      <td>C</td>\n",
       "    </tr>\n",
       "    <tr>\n",
       "      <th>4</th>\n",
       "      <td>skills_group0</td>\n",
       "      <td>Assembly</td>\n",
       "    </tr>\n",
       "    <tr>\n",
       "      <th>...</th>\n",
       "      <td>...</td>\n",
       "      <td>...</td>\n",
       "    </tr>\n",
       "    <tr>\n",
       "      <th>234</th>\n",
       "      <td>skills_group9</td>\n",
       "      <td>Yarn</td>\n",
       "    </tr>\n",
       "    <tr>\n",
       "      <th>235</th>\n",
       "      <td>skills_group9</td>\n",
       "      <td>Heroku</td>\n",
       "    </tr>\n",
       "    <tr>\n",
       "      <th>236</th>\n",
       "      <td>skills_group9</td>\n",
       "      <td>Vue.js</td>\n",
       "    </tr>\n",
       "    <tr>\n",
       "      <th>237</th>\n",
       "      <td>skills_group9</td>\n",
       "      <td>Angular.js</td>\n",
       "    </tr>\n",
       "    <tr>\n",
       "      <th>238</th>\n",
       "      <td>skills_group9</td>\n",
       "      <td>Webstorm</td>\n",
       "    </tr>\n",
       "  </tbody>\n",
       "</table>\n",
       "<p>239 rows × 2 columns</p>\n",
       "</div>"
      ],
      "text/plain": [
       "      cluster_name       skill\n",
       "0    skills_group0           C\n",
       "1    skills_group0           C\n",
       "2    skills_group0           C\n",
       "3    skills_group0           C\n",
       "4    skills_group0    Assembly\n",
       "..             ...         ...\n",
       "234  skills_group9        Yarn\n",
       "235  skills_group9      Heroku\n",
       "236  skills_group9      Vue.js\n",
       "237  skills_group9  Angular.js\n",
       "238  skills_group9    Webstorm\n",
       "\n",
       "[239 rows x 2 columns]"
      ]
     },
     "execution_count": 59,
     "metadata": {},
     "output_type": "execute_result"
    }
   ],
   "source": [
    "clusters=[(cluster_name,cluster_skill)\n",
    "         for cluster_name,cluster_skills in clusters_config.items()\n",
    "         for cluster_skill in cluster_skills]\n",
    "\n",
    "cluster_df=pd.DataFrame(clusters,columns=['cluster_name','skill'])\n",
    "\n",
    "cluster_df"
   ]
  },
  {
   "cell_type": "markdown",
   "id": "5e26ae96",
   "metadata": {},
   "source": [
    "# Some prediction"
   ]
  },
  {
   "cell_type": "code",
   "execution_count": 66,
   "id": "5d1fcbb4",
   "metadata": {},
   "outputs": [
    {
     "data": {
      "text/plain": [
       "0                APL\n",
       "1           Assembly\n",
       "2         Bash/Shell\n",
       "3                  C\n",
       "4                 C#\n",
       "           ...      \n",
       "144    skills_group5\n",
       "145    skills_group6\n",
       "146    skills_group7\n",
       "147    skills_group8\n",
       "148    skills_group9\n",
       "Length: 149, dtype: object"
      ]
     },
     "execution_count": 66,
     "metadata": {},
     "output_type": "execute_result"
    }
   ],
   "source": [
    "features_name"
   ]
  },
  {
   "cell_type": "code",
   "execution_count": 92,
   "id": "49f8dfd0",
   "metadata": {},
   "outputs": [
    {
     "data": {
      "text/plain": [
       "0    True\n",
       "1    True\n",
       "2    True\n",
       "dtype: bool"
      ]
     },
     "execution_count": 92,
     "metadata": {},
     "output_type": "execute_result"
    }
   ],
   "source": [
    "sample_skill=['Scala','Hadoop','Python']\n",
    "\n",
    "pd.Series(sample_skill).isin(features_name)"
   ]
  },
  {
   "cell_type": "code",
   "execution_count": 114,
   "id": "e932ddd3",
   "metadata": {},
   "outputs": [
    {
     "data": {
      "text/html": [
       "<div>\n",
       "<style scoped>\n",
       "    .dataframe tbody tr th:only-of-type {\n",
       "        vertical-align: middle;\n",
       "    }\n",
       "\n",
       "    .dataframe tbody tr th {\n",
       "        vertical-align: top;\n",
       "    }\n",
       "\n",
       "    .dataframe thead th {\n",
       "        text-align: right;\n",
       "    }\n",
       "</style>\n",
       "<table border=\"1\" class=\"dataframe\">\n",
       "  <thead>\n",
       "    <tr style=\"text-align: right;\">\n",
       "      <th></th>\n",
       "      <th>cluster_name</th>\n",
       "      <th>skill</th>\n",
       "      <th>sample_skills</th>\n",
       "    </tr>\n",
       "  </thead>\n",
       "  <tbody>\n",
       "    <tr>\n",
       "      <th>0</th>\n",
       "      <td>skills_group0</td>\n",
       "      <td>C</td>\n",
       "      <td>False</td>\n",
       "    </tr>\n",
       "    <tr>\n",
       "      <th>1</th>\n",
       "      <td>skills_group0</td>\n",
       "      <td>C</td>\n",
       "      <td>False</td>\n",
       "    </tr>\n",
       "    <tr>\n",
       "      <th>2</th>\n",
       "      <td>skills_group0</td>\n",
       "      <td>C</td>\n",
       "      <td>False</td>\n",
       "    </tr>\n",
       "    <tr>\n",
       "      <th>3</th>\n",
       "      <td>skills_group0</td>\n",
       "      <td>C</td>\n",
       "      <td>False</td>\n",
       "    </tr>\n",
       "    <tr>\n",
       "      <th>4</th>\n",
       "      <td>skills_group0</td>\n",
       "      <td>Assembly</td>\n",
       "      <td>False</td>\n",
       "    </tr>\n",
       "    <tr>\n",
       "      <th>...</th>\n",
       "      <td>...</td>\n",
       "      <td>...</td>\n",
       "      <td>...</td>\n",
       "    </tr>\n",
       "    <tr>\n",
       "      <th>234</th>\n",
       "      <td>skills_group9</td>\n",
       "      <td>Yarn</td>\n",
       "      <td>False</td>\n",
       "    </tr>\n",
       "    <tr>\n",
       "      <th>235</th>\n",
       "      <td>skills_group9</td>\n",
       "      <td>Heroku</td>\n",
       "      <td>False</td>\n",
       "    </tr>\n",
       "    <tr>\n",
       "      <th>236</th>\n",
       "      <td>skills_group9</td>\n",
       "      <td>Vue.js</td>\n",
       "      <td>False</td>\n",
       "    </tr>\n",
       "    <tr>\n",
       "      <th>237</th>\n",
       "      <td>skills_group9</td>\n",
       "      <td>Angular.js</td>\n",
       "      <td>False</td>\n",
       "    </tr>\n",
       "    <tr>\n",
       "      <th>238</th>\n",
       "      <td>skills_group9</td>\n",
       "      <td>Webstorm</td>\n",
       "      <td>False</td>\n",
       "    </tr>\n",
       "  </tbody>\n",
       "</table>\n",
       "<p>239 rows × 3 columns</p>\n",
       "</div>"
      ],
      "text/plain": [
       "      cluster_name       skill  sample_skills\n",
       "0    skills_group0           C          False\n",
       "1    skills_group0           C          False\n",
       "2    skills_group0           C          False\n",
       "3    skills_group0           C          False\n",
       "4    skills_group0    Assembly          False\n",
       "..             ...         ...            ...\n",
       "234  skills_group9        Yarn          False\n",
       "235  skills_group9      Heroku          False\n",
       "236  skills_group9      Vue.js          False\n",
       "237  skills_group9  Angular.js          False\n",
       "238  skills_group9    Webstorm          False\n",
       "\n",
       "[239 rows x 3 columns]"
      ]
     },
     "execution_count": 114,
     "metadata": {},
     "output_type": "execute_result"
    }
   ],
   "source": [
    "sample_cluster=cluster_df.copy()\n",
    "\n",
    "sample_cluster['sample_skills']=sample_cluster['skill'].isin(sample_skill)\n",
    "sample_cluster"
   ]
  },
  {
   "cell_type": "code",
   "execution_count": 71,
   "id": "b9439b40",
   "metadata": {},
   "outputs": [
    {
     "data": {
      "text/plain": [
       "cluster_name\n",
       "skills_group0     0\n",
       "skills_group1     0\n",
       "skills_group10    0\n",
       "skills_group11    0\n",
       "skills_group12    0\n",
       "skills_group13    0\n",
       "skills_group14    0\n",
       "skills_group15    0\n",
       "skills_group16    0\n",
       "skills_group17    0\n",
       "skills_group18    0\n",
       "skills_group19    0\n",
       "skills_group2     9\n",
       "skills_group20    0\n",
       "skills_group21    0\n",
       "skills_group22    0\n",
       "skills_group23    0\n",
       "skills_group3     0\n",
       "skills_group4     0\n",
       "skills_group5     0\n",
       "skills_group6     0\n",
       "skills_group7     0\n",
       "skills_group8     0\n",
       "skills_group9     0\n",
       "Name: sample_skills, dtype: int64"
      ]
     },
     "execution_count": 71,
     "metadata": {},
     "output_type": "execute_result"
    }
   ],
   "source": [
    "cluster_features=sample_cluster.groupby('cluster_name')['sample_skills'].sum()\n",
    "cluster_features"
   ]
  },
  {
   "cell_type": "code",
   "execution_count": 93,
   "id": "df233568",
   "metadata": {},
   "outputs": [
    {
     "data": {
      "text/plain": [
       "0                APL\n",
       "1           Assembly\n",
       "2         Bash/Shell\n",
       "3                  C\n",
       "4                 C#\n",
       "           ...      \n",
       "144    skills_group5\n",
       "145    skills_group6\n",
       "146    skills_group7\n",
       "147    skills_group8\n",
       "148    skills_group9\n",
       "Length: 149, dtype: object"
      ]
     },
     "execution_count": 93,
     "metadata": {},
     "output_type": "execute_result"
    }
   ],
   "source": [
    "features_name\n"
   ]
  },
  {
   "cell_type": "code",
   "execution_count": 102,
   "id": "303a4258",
   "metadata": {},
   "outputs": [
    {
     "data": {
      "text/plain": [
       "0                     APL\n",
       "1                Assembly\n",
       "2              Bash/Shell\n",
       "3                       C\n",
       "4                      C#\n",
       "              ...        \n",
       "120                   Vim\n",
       "121         Visual Studio\n",
       "122    Visual Studio Code\n",
       "123              Webstorm\n",
       "124                 Xcode\n",
       "Length: 125, dtype: object"
      ]
     },
     "execution_count": 102,
     "metadata": {},
     "output_type": "execute_result"
    }
   ],
   "source": [
    "skills_names=features_name[~features_name.isin(cluster_features.index)]\n",
    "skills_names"
   ]
  },
  {
   "cell_type": "code",
   "execution_count": 104,
   "id": "674a073c",
   "metadata": {},
   "outputs": [
    {
     "data": {
      "text/plain": [
       "0      False\n",
       "1      False\n",
       "2      False\n",
       "3      False\n",
       "4      False\n",
       "       ...  \n",
       "120    False\n",
       "121    False\n",
       "122    False\n",
       "123    False\n",
       "124    False\n",
       "Length: 125, dtype: bool"
      ]
     },
     "execution_count": 104,
     "metadata": {},
     "output_type": "execute_result"
    }
   ],
   "source": [
    "skills_names.isin(sample_cluster)"
   ]
  },
  {
   "cell_type": "code",
   "execution_count": 107,
   "id": "7ec322be",
   "metadata": {},
   "outputs": [
    {
     "data": {
      "text/plain": [
       "APL                   0\n",
       "Assembly              0\n",
       "Bash/Shell            0\n",
       "C                     0\n",
       "C#                    0\n",
       "                     ..\n",
       "Vim                   0\n",
       "Visual Studio         0\n",
       "Visual Studio Code    0\n",
       "Webstorm              0\n",
       "Xcode                 0\n",
       "Length: 125, dtype: int64"
      ]
     },
     "execution_count": 107,
     "metadata": {},
     "output_type": "execute_result"
    }
   ],
   "source": [
    "ohe_skills = pd.Series(skills_names.isin(sample_cluster).astype(int).tolist(), \n",
    "                       index=skills_names)\n",
    "ohe_skills"
   ]
  },
  {
   "cell_type": "code",
   "execution_count": 109,
   "id": "6da0ba56",
   "metadata": {},
   "outputs": [
    {
     "data": {
      "text/plain": [
       "APL              0\n",
       "Assembly         0\n",
       "Bash/Shell       0\n",
       "C                0\n",
       "C#               0\n",
       "                ..\n",
       "skills_group5    0\n",
       "skills_group6    0\n",
       "skills_group7    0\n",
       "skills_group8    0\n",
       "skills_group9    0\n",
       "Length: 149, dtype: int64"
      ]
     },
     "execution_count": 109,
     "metadata": {},
     "output_type": "execute_result"
    }
   ],
   "source": [
    "features = pd.concat([ohe_skills,\n",
    "                      cluster_features])\n",
    "features"
   ]
  },
  {
   "cell_type": "code",
   "execution_count": 110,
   "id": "dd84a298",
   "metadata": {},
   "outputs": [
    {
     "data": {
      "text/plain": [
       "APL              0\n",
       "Assembly         0\n",
       "Bash/Shell       0\n",
       "C                0\n",
       "C#               0\n",
       "                ..\n",
       "skills_group5    0\n",
       "skills_group6    0\n",
       "skills_group7    0\n",
       "skills_group8    0\n",
       "skills_group9    0\n",
       "Length: 149, dtype: int64"
      ]
     },
     "execution_count": 110,
     "metadata": {},
     "output_type": "execute_result"
    }
   ],
   "source": [
    "features = features.loc[features_name]\n",
    "features"
   ]
  },
  {
   "cell_type": "markdown",
   "id": "dd5415a0",
   "metadata": {},
   "source": [
    "# Prediction"
   ]
  },
  {
   "cell_type": "code",
   "execution_count": 111,
   "id": "eed65ca6",
   "metadata": {},
   "outputs": [
    {
     "name": "stderr",
     "output_type": "stream",
     "text": [
      "[Parallel(n_jobs=8)]: Using backend ThreadingBackend with 8 concurrent workers.\n",
      "[Parallel(n_jobs=8)]: Done  34 tasks      | elapsed:    0.0s\n",
      "[Parallel(n_jobs=8)]: Done 100 out of 100 | elapsed:    0.0s finished\n"
     ]
    },
    {
     "data": {
      "text/plain": [
       "[array([[0.85, 0.15]]),\n",
       " array([[0.81, 0.19]]),\n",
       " array([[0.96, 0.04]]),\n",
       " array([[0.93, 0.07]]),\n",
       " array([[0.97, 0.03]]),\n",
       " array([[0.83, 0.17]]),\n",
       " array([[0.82, 0.18]]),\n",
       " array([[0.92, 0.08]]),\n",
       " array([[0.97, 0.03]]),\n",
       " array([[0.96, 0.04]]),\n",
       " array([[0.94, 0.06]]),\n",
       " array([[0.9, 0.1]]),\n",
       " array([[1., 0.]]),\n",
       " array([[0.86, 0.14]]),\n",
       " array([[0.87, 0.13]]),\n",
       " array([[0.9, 0.1]])]"
      ]
     },
     "execution_count": 111,
     "metadata": {},
     "output_type": "execute_result"
    }
   ],
   "source": [
    "prediction=classifier.predict_proba([features.values])\n",
    "prediction"
   ]
  },
  {
   "cell_type": "code",
   "execution_count": 112,
   "id": "bc9ac8a4",
   "metadata": {},
   "outputs": [
    {
     "data": {
      "text/plain": [
       "Data or business analyst                         0.19\n",
       "Developer, back-end                              0.18\n",
       "Developer, QA or test                            0.17\n",
       "Academic researcher                              0.15\n",
       "Engineer, data                                   0.14\n",
       "Scientist                                        0.13\n",
       "Developer, game or graphics                      0.10\n",
       "System administrator                             0.10\n",
       "Developer, desktop or enterprise applications    0.08\n",
       "Database administrator                           0.07\n",
       "Developer, full-stack                            0.06\n",
       "Data scientist or machine learning specialist    0.04\n",
       "Developer, front-end                             0.04\n",
       "DevOps specialist                                0.03\n",
       "Developer, embedded applications or devices      0.03\n",
       "Developer, mobile                                0.00\n",
       "dtype: float64"
      ]
     },
     "execution_count": 112,
     "metadata": {},
     "output_type": "execute_result"
    }
   ],
   "source": [
    "positive_probs=[prob[0][1] for prob in prediction]\n",
    "\n",
    "pd.Series(positive_probs,index=target_names).sort_values(ascending=False)\n"
   ]
  },
  {
   "cell_type": "code",
   "execution_count": null,
   "id": "77640fc3",
   "metadata": {},
   "outputs": [],
   "source": []
  }
 ],
 "metadata": {
  "kernelspec": {
   "display_name": "Python 3 (ipykernel)",
   "language": "python",
   "name": "python3"
  },
  "language_info": {
   "codemirror_mode": {
    "name": "ipython",
    "version": 3
   },
   "file_extension": ".py",
   "mimetype": "text/x-python",
   "name": "python",
   "nbconvert_exporter": "python",
   "pygments_lexer": "ipython3",
   "version": "3.9.7"
  }
 },
 "nbformat": 4,
 "nbformat_minor": 5
}
